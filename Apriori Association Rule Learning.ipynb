{
 "cells": [
  {
   "cell_type": "markdown",
   "metadata": {},
   "source": [
    "# Apriori learning\n",
    "This code uses the python apyori module https://github.com/ymoch/apyori/blob/master/apyori.py\n",
    "to analyze an online retail dataset https://www.kaggle.com/puneetbhaya/online-retail\n",
    "and execute the apriori learning algorithm to extract sets of items that are frequently purchased together. "
   ]
  },
  {
   "cell_type": "code",
   "execution_count": null,
   "metadata": {
    "collapsed": true
   },
   "outputs": [],
   "source": [
    "# Importing the libraries\n",
    "import numpy as np\n",
    "import pandas as pd\n",
    "\n",
    "######## Data Preprocessing\n",
    "dataset = pd.read_excel('Online Retail.xlsx')\n",
    "\n",
    "#Replace null descriptions with the stock code \n",
    "for i, d in dataset[dataset['Description'].isnull()].iterrows():\n",
    "    dataset['Description'][i] = \"Code-\" + str(d['StockCode'])\n",
    "#group into baskets\n",
    "grouped = dataset.groupby('InvoiceNo')\n",
    "\n",
    "#rearrange into a list, as required by apyori\n",
    "transactions = []\n",
    "for name,group in grouped:\n",
    "    transactions.append(list(group['Description'].map(str)))\n",
    "\n",
    "np.random.seed(42)\n",
    "#here I am sampling the contents of large baskets, the algorithm runs really long if not. \n",
    "tsamples = []\n",
    "for row in transactions:\n",
    "    if len(row) >= 150:\n",
    "        newrow = np.random.choice(row,size=150).tolist()\n",
    "    else:\n",
    "        newrow = row\n",
    "    tsamples.append(newrow)"
   ]
  },
  {
   "cell_type": "markdown",
   "metadata": {},
   "source": [
    "### Training"
   ]
  },
  {
   "cell_type": "code",
   "execution_count": 2,
   "metadata": {
    "collapsed": true
   },
   "outputs": [],
   "source": [
    "##### Training Apriori on the dataset\n",
    "from apyori import apriori\n",
    "rules = apriori(tsamples, min_support = 0.005, min_confidence = 0.2, min_lift = 3, min_length = 2)\n",
    "\n",
    "# Getting the results\n",
    "results = list(rules)\n"
   ]
  },
  {
   "cell_type": "code",
   "execution_count": 4,
   "metadata": {},
   "outputs": [
    {
     "name": "stdout",
     "output_type": "stream",
     "text": [
      "Rule #1:\n",
      "HERB MARKER BASIL _&&_ HERB MARKER CHIVES  _&&_ HERB MARKER PARSLEY _&&_ HERB MARKER ROSEMARY _&&_ HERB MARKER MINT\n",
      "=> HERB MARKER THYME\n",
      "Support: 0.005096525096525096 - Confidence: 0.9850746268656715 - Lift: 124.45576993083363\n",
      "--------------------\n",
      "Rule #2:\n",
      "HERB MARKER CHIVES  _&&_ HERB MARKER ROSEMARY _&&_ HERB MARKER PARSLEY _&&_ HERB MARKER BASIL\n",
      "=> HERB MARKER THYME\n",
      "Support: 0.005250965250965251 - Confidence: 0.9784172661870505 - Lift: 123.61466924021761\n",
      "--------------------\n",
      "Rule #3:\n",
      "HERB MARKER MINT _&&_ HERB MARKER ROSEMARY _&&_ HERB MARKER PARSLEY _&&_ HERB MARKER BASIL\n",
      "=> HERB MARKER THYME\n",
      "Support: 0.005598455598455598 - Confidence: 0.9666666666666667 - Lift: 122.13008130081302\n",
      "--------------------\n",
      "Rule #4:\n",
      "HERB MARKER CHIVES  _&&_ HERB MARKER ROSEMARY _&&_ HERB MARKER PARSLEY _&&_ HERB MARKER MINT\n",
      "=> HERB MARKER THYME\n",
      "Support: 0.005482625482625483 - Confidence: 0.9659863945578231 - Lift: 122.04413472706156\n",
      "--------------------\n",
      "Rule #5:\n",
      "HERB MARKER MINT _&&_ HERB MARKER CHIVES  _&&_ HERB MARKER PARSLEY _&&_ HERB MARKER BASIL\n",
      "=> HERB MARKER THYME\n",
      "Support: 0.0052123552123552125 - Confidence: 0.9642857142857143 - Lift: 121.82926829268294\n",
      "--------------------\n",
      "Rule #6:\n",
      "HERB MARKER MINT _&&_ HERB MARKER CHIVES  _&&_ HERB MARKER ROSEMARY _&&_ HERB MARKER BASIL\n",
      "=> HERB MARKER THYME\n",
      "Support: 0.005135135135135135 - Confidence: 0.9637681159420289 - Lift: 121.76387416048074\n",
      "--------------------\n",
      "Rule #7:\n",
      "HERB MARKER CHIVES  _&&_ HERB MARKER ROSEMARY _&&_ HERB MARKER PARSLEY\n",
      "=> HERB MARKER THYME\n",
      "Support: 0.005752895752895753 - Confidence: 0.9612903225806452 - Lift: 121.45082612116445\n",
      "--------------------\n",
      "Rule #8:\n",
      "HERB MARKER CHIVES  _&&_ HERB MARKER ROSEMARY _&&_ HERB MARKER BASIL\n",
      "=> HERB MARKER THYME\n",
      "Support: 0.005328185328185328 - Confidence: 0.9583333333333334 - Lift: 121.07723577235774\n",
      "--------------------\n",
      "Rule #9:\n",
      "HERB MARKER CHIVES  _&&_ HERB MARKER PARSLEY _&&_ HERB MARKER BASIL\n",
      "=> HERB MARKER THYME\n",
      "Support: 0.005444015444015444 - Confidence: 0.9527027027027027 - Lift: 120.3658536585366\n",
      "--------------------\n",
      "Rule #10:\n",
      "HERB MARKER ROSEMARY _&&_ HERB MARKER PARSLEY _&&_ HERB MARKER BASIL\n",
      "=> HERB MARKER THYME\n",
      "Support: 0.005868725868725869 - Confidence: 0.9500000000000001 - Lift: 120.02439024390246\n",
      "--------------------\n",
      "Rule #11:\n",
      "HERB MARKER CHIVES  _&&_ HERB MARKER ROSEMARY _&&_ HERB MARKER MINT\n",
      "=> HERB MARKER THYME\n",
      "Support: 0.005598455598455598 - Confidence: 0.9477124183006534 - Lift: 119.73537382432647\n",
      "--------------------\n",
      "Rule #12:\n",
      "HERB MARKER ROSEMARY _&&_ HERB MARKER PARSLEY _&&_ HERB MARKER MINT\n",
      "=> HERB MARKER THYME\n",
      "Support: 0.006061776061776062 - Confidence: 0.9457831325301206 - Lift: 119.49162503673232\n",
      "--------------------\n",
      "Rule #13:\n",
      "HERB MARKER CHIVES  _&&_ HERB MARKER PARSLEY _&&_ HERB MARKER MINT\n",
      "=> HERB MARKER THYME\n",
      "Support: 0.005637065637065637 - Confidence: 0.9419354838709678 - Lift: 119.0055074744296\n",
      "--------------------\n",
      "Rule #14:\n",
      "HERB MARKER CHIVES  _&&_ HERB MARKER ROSEMARY\n",
      "=> HERB MARKER THYME\n",
      "Support: 0.005945945945945946 - Confidence: 0.9390243902439024 - Lift: 118.63771564544913\n",
      "--------------------\n",
      "Rule #15:\n",
      "HERB MARKER MINT _&&_ HERB MARKER CHIVES  _&&_ HERB MARKER BASIL\n",
      "=> HERB MARKER THYME\n",
      "Support: 0.0052895752895752894 - Confidence: 0.9383561643835616 - Lift: 118.55329101236218\n",
      "--------------------\n",
      "Rule #16:\n",
      "HERB MARKER ROSEMARY _&&_ HERB MARKER PARSLEY\n",
      "=> HERB MARKER THYME\n",
      "Support: 0.006563706563706564 - Confidence: 0.9340659340659341 - Lift: 118.01125703564729\n",
      "--------------------\n",
      "Rule #17:\n",
      "HERB MARKER CHIVES  _&&_ HERB MARKER PARSLEY\n",
      "=> HERB MARKER THYME\n",
      "Support: 0.005984555984555984 - Confidence: 0.9337349397590361 - Lift: 117.96943873053189\n",
      "--------------------\n",
      "Rule #18:\n",
      "HERB MARKER MINT _&&_ HERB MARKER ROSEMARY _&&_ HERB MARKER BASIL\n",
      "=> HERB MARKER THYME\n",
      "Support: 0.005868725868725869 - Confidence: 0.9325153374233128 - Lift: 117.8153523866527\n",
      "--------------------\n",
      "Rule #19:\n",
      "HERB MARKER MINT _&&_ HERB MARKER CHIVES  _&&_ HERB MARKER BASIL\n",
      "=> HERB MARKER PARSLEY\n",
      "Support: 0.005405405405405406 - Confidence: 0.9589041095890412 - Lift: 117.70434330974486\n",
      "--------------------\n",
      "Rule #20:\n",
      "HERB MARKER MINT _&&_ HERB MARKER CHIVES  _&&_ HERB MARKER PARSLEY _&&_ HERB MARKER BASIL\n",
      "=> HERB MARKER ROSEMARY\n",
      "Support: 0.005173745173745174 - Confidence: 0.9571428571428572 - Lift: 117.48815165876778\n",
      "--------------------\n"
     ]
    }
   ],
   "source": [
    "#results print out courtesy of:\n",
    "#https://www.kaggle.com/asamir/online-retail-analyze-with-association-rules\n",
    "final_results = pd.DataFrame(np.random.randint(low=0, high=1, size=(len(results), 6)), columns=['GeneralRules', 'LeftRules', 'RightRules', 'Support', 'Confidence', 'Lift'])\n",
    "index = 0\n",
    "for g, s, i in results:\n",
    "    final_results.iloc[index] = [' _&&_ '.join(list(g)), ' _&&_ '.join(list(i[0][0])), ' _&&_ '.join(list(i[0][1])), s, i[0][2], i[0][3]]\n",
    "    index = index+1\n",
    "# The most significant rules\n",
    "final_results = final_results.sort_values('Lift', ascending=0)\n",
    "#final_results.head(20)\n",
    "\n",
    "count=1\n",
    "for i, d in final_results.head(20).iterrows():\n",
    "    print('Rule #'+str(count)+':')\n",
    "    print(d['LeftRules'])\n",
    "    print('=> '+d['RightRules'])\n",
    "    print('Support: '+str(d['Support'])+' - Confidence: '+str(d['Confidence'])+' - Lift: '+str(d['Lift']))\n",
    "    print('--------------------')\n",
    "    count=count+1"
   ]
  },
  {
   "cell_type": "code",
   "execution_count": null,
   "metadata": {
    "collapsed": true
   },
   "outputs": [],
   "source": []
  }
 ],
 "metadata": {
  "kernelspec": {
   "display_name": "Python [conda env:spyder]",
   "language": "python",
   "name": "conda-env-spyder-py"
  },
  "language_info": {
   "codemirror_mode": {
    "name": "ipython",
    "version": 3
   },
   "file_extension": ".py",
   "mimetype": "text/x-python",
   "name": "python",
   "nbconvert_exporter": "python",
   "pygments_lexer": "ipython3",
   "version": "3.6.4"
  }
 },
 "nbformat": 4,
 "nbformat_minor": 2
}
